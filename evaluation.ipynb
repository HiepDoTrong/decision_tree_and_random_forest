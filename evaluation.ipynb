{
 "cells": [
  {
   "cell_type": "code",
   "execution_count": 1,
   "metadata": {},
   "outputs": [],
   "source": [
    "from sklearn.datasets import load_iris\n",
    "from sklearn.model_selection import train_test_split\n",
    "from sklearn.metrics import accuracy_score, precision_score, recall_score, f1_score\n",
    "from random_forest import RandomForest\n",
    "from decision_tree import DecisionTree\n",
    "from sklearn.ensemble import RandomForestClassifier\n",
    "from sklearn.tree import DecisionTreeClassifier\n",
    "from datetime import datetime\n",
    "from matplotlib import pyplot as plt\n",
    "import pandas as pd\n",
    "import numpy as np\n",
    "from sklearn.preprocessing import LabelEncoder, OneHotEncoder\n",
    "from sklearn.compose import ColumnTransformer"
   ]
  },
  {
   "cell_type": "code",
   "execution_count": 2,
   "metadata": {},
   "outputs": [],
   "source": [
    "df = pd.read_csv('/home/dotronghiep/Documents/Datasets/Data_mining/bank.csv',  parse_dates = True)"
   ]
  },
  {
   "cell_type": "code",
   "execution_count": 3,
   "metadata": {},
   "outputs": [
    {
     "data": {
      "text/html": [
       "<div>\n",
       "<style scoped>\n",
       "    .dataframe tbody tr th:only-of-type {\n",
       "        vertical-align: middle;\n",
       "    }\n",
       "\n",
       "    .dataframe tbody tr th {\n",
       "        vertical-align: top;\n",
       "    }\n",
       "\n",
       "    .dataframe thead th {\n",
       "        text-align: right;\n",
       "    }\n",
       "</style>\n",
       "<table border=\"1\" class=\"dataframe\">\n",
       "  <thead>\n",
       "    <tr style=\"text-align: right;\">\n",
       "      <th></th>\n",
       "      <th>age</th>\n",
       "      <th>job</th>\n",
       "      <th>marital</th>\n",
       "      <th>education</th>\n",
       "      <th>default</th>\n",
       "      <th>balance</th>\n",
       "      <th>housing</th>\n",
       "      <th>loan</th>\n",
       "      <th>contact</th>\n",
       "      <th>day</th>\n",
       "      <th>month</th>\n",
       "      <th>duration</th>\n",
       "      <th>campaign</th>\n",
       "      <th>pdays</th>\n",
       "      <th>previous</th>\n",
       "      <th>poutcome</th>\n",
       "      <th>deposit</th>\n",
       "    </tr>\n",
       "  </thead>\n",
       "  <tbody>\n",
       "    <tr>\n",
       "      <th>0</th>\n",
       "      <td>59</td>\n",
       "      <td>admin.</td>\n",
       "      <td>married</td>\n",
       "      <td>secondary</td>\n",
       "      <td>no</td>\n",
       "      <td>2343</td>\n",
       "      <td>yes</td>\n",
       "      <td>no</td>\n",
       "      <td>unknown</td>\n",
       "      <td>5</td>\n",
       "      <td>may</td>\n",
       "      <td>1042</td>\n",
       "      <td>1</td>\n",
       "      <td>-1</td>\n",
       "      <td>0</td>\n",
       "      <td>unknown</td>\n",
       "      <td>yes</td>\n",
       "    </tr>\n",
       "    <tr>\n",
       "      <th>1</th>\n",
       "      <td>56</td>\n",
       "      <td>admin.</td>\n",
       "      <td>married</td>\n",
       "      <td>secondary</td>\n",
       "      <td>no</td>\n",
       "      <td>45</td>\n",
       "      <td>no</td>\n",
       "      <td>no</td>\n",
       "      <td>unknown</td>\n",
       "      <td>5</td>\n",
       "      <td>may</td>\n",
       "      <td>1467</td>\n",
       "      <td>1</td>\n",
       "      <td>-1</td>\n",
       "      <td>0</td>\n",
       "      <td>unknown</td>\n",
       "      <td>yes</td>\n",
       "    </tr>\n",
       "    <tr>\n",
       "      <th>2</th>\n",
       "      <td>41</td>\n",
       "      <td>technician</td>\n",
       "      <td>married</td>\n",
       "      <td>secondary</td>\n",
       "      <td>no</td>\n",
       "      <td>1270</td>\n",
       "      <td>yes</td>\n",
       "      <td>no</td>\n",
       "      <td>unknown</td>\n",
       "      <td>5</td>\n",
       "      <td>may</td>\n",
       "      <td>1389</td>\n",
       "      <td>1</td>\n",
       "      <td>-1</td>\n",
       "      <td>0</td>\n",
       "      <td>unknown</td>\n",
       "      <td>yes</td>\n",
       "    </tr>\n",
       "    <tr>\n",
       "      <th>3</th>\n",
       "      <td>55</td>\n",
       "      <td>services</td>\n",
       "      <td>married</td>\n",
       "      <td>secondary</td>\n",
       "      <td>no</td>\n",
       "      <td>2476</td>\n",
       "      <td>yes</td>\n",
       "      <td>no</td>\n",
       "      <td>unknown</td>\n",
       "      <td>5</td>\n",
       "      <td>may</td>\n",
       "      <td>579</td>\n",
       "      <td>1</td>\n",
       "      <td>-1</td>\n",
       "      <td>0</td>\n",
       "      <td>unknown</td>\n",
       "      <td>yes</td>\n",
       "    </tr>\n",
       "    <tr>\n",
       "      <th>4</th>\n",
       "      <td>54</td>\n",
       "      <td>admin.</td>\n",
       "      <td>married</td>\n",
       "      <td>tertiary</td>\n",
       "      <td>no</td>\n",
       "      <td>184</td>\n",
       "      <td>no</td>\n",
       "      <td>no</td>\n",
       "      <td>unknown</td>\n",
       "      <td>5</td>\n",
       "      <td>may</td>\n",
       "      <td>673</td>\n",
       "      <td>2</td>\n",
       "      <td>-1</td>\n",
       "      <td>0</td>\n",
       "      <td>unknown</td>\n",
       "      <td>yes</td>\n",
       "    </tr>\n",
       "  </tbody>\n",
       "</table>\n",
       "</div>"
      ],
      "text/plain": [
       "   age         job  marital  education default  balance housing loan  contact  \\\n",
       "0   59      admin.  married  secondary      no     2343     yes   no  unknown   \n",
       "1   56      admin.  married  secondary      no       45      no   no  unknown   \n",
       "2   41  technician  married  secondary      no     1270     yes   no  unknown   \n",
       "3   55    services  married  secondary      no     2476     yes   no  unknown   \n",
       "4   54      admin.  married   tertiary      no      184      no   no  unknown   \n",
       "\n",
       "   day month  duration  campaign  pdays  previous poutcome deposit  \n",
       "0    5   may      1042         1     -1         0  unknown     yes  \n",
       "1    5   may      1467         1     -1         0  unknown     yes  \n",
       "2    5   may      1389         1     -1         0  unknown     yes  \n",
       "3    5   may       579         1     -1         0  unknown     yes  \n",
       "4    5   may       673         2     -1         0  unknown     yes  "
      ]
     },
     "execution_count": 3,
     "metadata": {},
     "output_type": "execute_result"
    }
   ],
   "source": [
    "df.head()"
   ]
  },
  {
   "cell_type": "code",
   "execution_count": 4,
   "metadata": {},
   "outputs": [],
   "source": [
    "X_df = df.iloc[:, :-1]\n",
    "y_df = df.iloc[:, -1]\n",
    "X = X_df.values\n",
    "y = y_df.values"
   ]
  },
  {
   "cell_type": "code",
   "execution_count": 5,
   "metadata": {},
   "outputs": [],
   "source": [
    "y[y == 'yes'] = 1\n",
    "y[y == 'no'] = 0"
   ]
  },
  {
   "cell_type": "code",
   "execution_count": 6,
   "metadata": {},
   "outputs": [
    {
     "name": "stdout",
     "output_type": "stream",
     "text": [
      "0    5873\n",
      "1    5289\n",
      "Name: count, dtype: int64\n"
     ]
    }
   ],
   "source": [
    "class_counts = pd.Series(y).value_counts()\n",
    "print(class_counts)"
   ]
  },
  {
   "cell_type": "code",
   "execution_count": 7,
   "metadata": {},
   "outputs": [
    {
     "name": "stdout",
     "output_type": "stream",
     "text": [
      "(11162, 16)\n",
      "(11162,)\n"
     ]
    }
   ],
   "source": [
    "print(X.shape)\n",
    "print(y.shape)"
   ]
  },
  {
   "cell_type": "code",
   "execution_count": 8,
   "metadata": {},
   "outputs": [
    {
     "name": "stdout",
     "output_type": "stream",
     "text": [
      "feature 0: [18 19 20 21 22 23 24 25 26 27 28 29 30 31 32 33 34 35 36 37 38 39 40 41\n",
      " 42 43 44 45 46 47 48 49 50 51 52 53 54 55 56 57 58 59 60 61 62 63 64 65\n",
      " 66 67 68 69 70 71 72 73 74 75 76 77 78 79 80 81 82 83 84 85 86 87 88 89\n",
      " 90 92 93 95]\n",
      "feature 1: ['admin.' 'blue-collar' 'entrepreneur' 'housemaid' 'management' 'retired'\n",
      " 'self-employed' 'services' 'student' 'technician' 'unemployed' 'unknown']\n",
      "feature 2: ['divorced' 'married' 'single']\n",
      "feature 3: ['primary' 'secondary' 'tertiary' 'unknown']\n",
      "feature 4: ['no' 'yes']\n",
      "feature 5: [-6847 -3058 -2712 ... 56831 66653 81204]\n",
      "feature 6: ['no' 'yes']\n",
      "feature 7: ['no' 'yes']\n",
      "feature 8: ['cellular' 'telephone' 'unknown']\n",
      "feature 9: [1 2 3 4 5 6 7 8 9 10 11 12 13 14 15 16 17 18 19 20 21 22 23 24 25 26 27\n",
      " 28 29 30 31]\n",
      "feature 10: ['apr' 'aug' 'dec' 'feb' 'jan' 'jul' 'jun' 'mar' 'may' 'nov' 'oct' 'sep']\n",
      "feature 11: [2 3 4 ... 3253 3284 3881]\n",
      "feature 12: [1 2 3 4 5 6 7 8 9 10 11 12 13 14 15 16 17 18 19 20 21 22 23 24 25 26 27\n",
      " 28 29 30 31 32 33 41 43 63]\n",
      "feature 13: [-1 1 2 4 5 6 8 9 10 12 13 14 15 17 20 21 22 24 27 28 29 31 33 34 35 36 37\n",
      " 38 40 41 42 43 44 48 49 50 52 53 55 56 57 58 59 60 61 62 63 64 65 66 67\n",
      " 68 69 70 71 72 73 74 75 76 77 78 79 80 81 82 83 84 85 86 87 88 89 90 91\n",
      " 92 93 94 95 96 97 98 99 100 101 102 103 104 105 106 107 108 109 110 111\n",
      " 112 113 114 115 116 117 118 119 120 121 122 123 124 125 126 127 128 129\n",
      " 130 131 132 133 134 135 136 137 138 139 140 141 142 143 144 145 146 147\n",
      " 148 149 150 151 152 153 154 155 156 157 158 159 160 161 162 163 164 165\n",
      " 166 167 168 169 170 171 172 173 174 175 176 177 178 179 180 181 182 183\n",
      " 184 185 186 187 188 189 190 191 192 193 194 195 196 197 198 199 200 201\n",
      " 202 203 204 205 206 207 208 209 210 211 212 213 214 216 217 221 222 223\n",
      " 224 225 227 228 229 230 231 232 233 234 235 236 237 238 239 241 242 243\n",
      " 244 245 246 247 250 251 252 253 254 255 256 257 258 259 260 261 262 263\n",
      " 264 265 266 267 268 269 270 271 272 273 274 275 276 277 278 279 280 281\n",
      " 282 283 284 285 286 287 288 289 290 291 292 293 294 295 296 297 298 299\n",
      " 300 301 302 303 304 305 306 307 308 309 310 311 312 313 314 315 316 317\n",
      " 318 319 320 321 322 323 324 325 326 327 328 329 330 331 332 333 334 335\n",
      " 336 337 338 339 340 341 342 343 344 345 346 347 348 349 350 351 352 353\n",
      " 354 355 356 357 358 359 360 361 362 363 364 365 366 367 368 369 370 371\n",
      " 372 373 374 375 376 377 378 381 384 385 386 387 388 389 390 391 392 394\n",
      " 395 397 398 399 401 403 404 405 407 409 412 414 415 417 420 421 422 424\n",
      " 425 426 427 428 430 433 435 436 437 439 440 442 444 445 446 449 450 455\n",
      " 457 458 459 460 461 462 463 466 469 470 472 474 475 476 477 478 479 481\n",
      " 486 490 491 495 503 504 515 518 520 521 529 532 535 541 544 550 551 553\n",
      " 555 558 561 579 586 587 594 595 603 616 626 648 651 683 690 701 717 728\n",
      " 749 761 769 771 772 774 776 778 782 784 792 804 805 826 828 842 854]\n",
      "feature 14: [0 1 2 3 4 5 6 7 8 9 10 11 12 13 14 15 16 17 18 19 20 21 22 23 26 27 28 29\n",
      " 30 37 40 41 55 58]\n",
      "feature 15: ['failure' 'other' 'success' 'unknown']\n"
     ]
    }
   ],
   "source": [
    "for i in range(X.shape[1]):\n",
    "    unique_values = np.unique(X[:, i])\n",
    "    print(f\"feature {i}: {unique_values}\")"
   ]
  },
  {
   "cell_type": "code",
   "execution_count": 9,
   "metadata": {},
   "outputs": [
    {
     "name": "stdout",
     "output_type": "stream",
     "text": [
      "[[59 0 1 1 0 2343 1 0 2 5 8 1042 1 -1 0 3]\n",
      " [56 0 1 1 0 45 0 0 2 5 8 1467 1 -1 0 3]\n",
      " [41 9 1 1 0 1270 1 0 2 5 8 1389 1 -1 0 3]\n",
      " [55 7 1 1 0 2476 1 0 2 5 8 579 1 -1 0 3]\n",
      " [54 0 1 2 0 184 0 0 2 5 8 673 2 -1 0 3]]\n"
     ]
    }
   ],
   "source": [
    "label_encoder = LabelEncoder()\n",
    "X_label = X.copy()\n",
    "\n",
    "columns_indices_to_encode = [1, 2, 3, 4, 6, 7, 8, 10, 15]  \n",
    "\n",
    "for column_index in columns_indices_to_encode:\n",
    "    X_label[:, column_index] = label_encoder.fit_transform(X_label[:, column_index])\n",
    "\n",
    "print(X_label[:5])"
   ]
  },
  {
   "cell_type": "code",
   "execution_count": 10,
   "metadata": {},
   "outputs": [
    {
     "name": "stdout",
     "output_type": "stream",
     "text": [
      "[[0.0 0.0 0.0 0.0 0.0 0.0 0.0 0.0 0.0 0.0 0.0 1.0 0.0 1.0 0.0 0.0 0.0 1.0\n",
      "  0.0 0.0 0.0 0.0 0.0 0.0 0.0 1.0 0.0 0.0 0.0 0.0 0.0 1.0 59 0 2343 1 0 5\n",
      "  1042 1 -1 0]\n",
      " [0.0 0.0 0.0 0.0 0.0 0.0 0.0 0.0 0.0 0.0 0.0 1.0 0.0 1.0 0.0 0.0 0.0 1.0\n",
      "  0.0 0.0 0.0 0.0 0.0 0.0 0.0 1.0 0.0 0.0 0.0 0.0 0.0 1.0 56 0 45 0 0 5\n",
      "  1467 1 -1 0]\n",
      " [0.0 0.0 0.0 0.0 0.0 0.0 0.0 0.0 1.0 0.0 0.0 1.0 0.0 1.0 0.0 0.0 0.0 1.0\n",
      "  0.0 0.0 0.0 0.0 0.0 0.0 0.0 1.0 0.0 0.0 0.0 0.0 0.0 1.0 41 0 1270 1 0 5\n",
      "  1389 1 -1 0]\n",
      " [0.0 0.0 0.0 0.0 0.0 0.0 1.0 0.0 0.0 0.0 0.0 1.0 0.0 1.0 0.0 0.0 0.0 1.0\n",
      "  0.0 0.0 0.0 0.0 0.0 0.0 0.0 1.0 0.0 0.0 0.0 0.0 0.0 1.0 55 0 2476 1 0 5\n",
      "  579 1 -1 0]\n",
      " [0.0 0.0 0.0 0.0 0.0 0.0 0.0 0.0 0.0 0.0 0.0 1.0 0.0 0.0 1.0 0.0 0.0 1.0\n",
      "  0.0 0.0 0.0 0.0 0.0 0.0 0.0 1.0 0.0 0.0 0.0 0.0 0.0 1.0 54 0 184 0 0 5\n",
      "  673 2 -1 0]]\n"
     ]
    }
   ],
   "source": [
    "X_onehot = X_label.copy()\n",
    "columns_to_onehot = [1, 2, 3, 8, 10, 15]  \n",
    "\n",
    "ct = ColumnTransformer(\n",
    "    [('onehot', OneHotEncoder(drop='first'), columns_to_onehot)],\n",
    "    remainder='passthrough'  # Giữ lại các cột không được chỉ định\n",
    ")\n",
    "\n",
    "X_onehot = ct.fit_transform(X_onehot)\n",
    "print(X_onehot[:5])"
   ]
  },
  {
   "cell_type": "code",
   "execution_count": 11,
   "metadata": {},
   "outputs": [
    {
     "name": "stdout",
     "output_type": "stream",
     "text": [
      "X's shape: (11162, 16)\n",
      "X_label's shape: (11162, 16)\n",
      "X_onehot's shape: (11162, 42)\n"
     ]
    }
   ],
   "source": [
    "print(\"X's shape:\", X.shape)\n",
    "print(\"X_label's shape:\", X_label.shape)\n",
    "print(\"X_onehot's shape:\", X_onehot.shape)"
   ]
  },
  {
   "cell_type": "code",
   "execution_count": 12,
   "metadata": {},
   "outputs": [],
   "source": [
    "def evaluate_model(model, X_train, y_train, X_test, y_test, model_name):\n",
    "    start = datetime.now()\n",
    "    model.fit(X_train, y_train)\n",
    "    end = datetime.now()\n",
    "    build_time = (end - start).total_seconds()\n",
    "    \n",
    "    start = datetime.now()\n",
    "    y_pred = model.predict(X_test)\n",
    "    end = datetime.now()\n",
    "    test_time = (end - start).total_seconds()\n",
    "    \n",
    "    accuracy = accuracy_score(y_test, y_pred)\n",
    "    precision = precision_score(y_test, y_pred)\n",
    "    recall = recall_score(y_test, y_pred)\n",
    "    f1 = f1_score(y_test, y_pred)\n",
    "    \n",
    "    print(f\"{model_name} accuracy: {accuracy:.4f}, precision: {precision:.4f}, recall: {recall:.4f}, f1: {f1:.4f}\")\n",
    "    print(f\"{model_name} build time: {build_time:.4f}, test time: {test_time:.4f}\")\n",
    "    print(\"====================================\")\n",
    "\n",
    "\n",
    "    \n",
    "    return [accuracy, precision, recall, f1, build_time, test_time]"
   ]
  },
  {
   "cell_type": "code",
   "execution_count": 13,
   "metadata": {},
   "outputs": [],
   "source": [
    "def comparative(X, y, loops=1, cate=True):\n",
    "    global results_sk_tree, results_sk_forest, results_my_tree, results_my_forest\n",
    "    y = y.astype('int')\n",
    "\n",
    "    i=0\n",
    "    for i in range(loops):\n",
    "        print (\"Time step: \", i+1)\n",
    "\n",
    "        X_train, X_test, y_train, y_test = train_test_split(X, y, test_size=0.2)\n",
    "        if not cate:\n",
    "            # sklearn tree\n",
    "            sk_tree = DecisionTreeClassifier(criterion='entropy', max_depth=10, min_samples_split=5) \n",
    "            results_sk_tree.append(evaluate_model(sk_tree, X_train, y_train, X_test, y_test, \"sklearn tree\"))       \n",
    "\n",
    "            # sklearn forest\n",
    "            sk_forest = RandomForestClassifier(criterion='entropy',n_estimators=10, max_depth=10, min_samples_split=5)\n",
    "            results_sk_forest.append(evaluate_model(sk_forest, X_train, y_train, X_test, y_test, \"sklearn forest\"))\n",
    "\n",
    "        # my tree\n",
    "        my_tree = DecisionTree(max_depth=10, min_samples_split=5)\n",
    "        results_my_tree.append(evaluate_model(my_tree, X_train, y_train, X_test, y_test, \"my tree\"))\n",
    "    \n",
    "\n",
    "        # my forest\n",
    "        my_forest = RandomForest(num_trees=10, max_depth=10, min_samples_split=5)\n",
    "        results_my_forest.append(evaluate_model(my_forest, X_train, y_train, X_test, y_test, \"my forest\"))\n"
   ]
  },
  {
   "cell_type": "code",
   "execution_count": 14,
   "metadata": {},
   "outputs": [],
   "source": [
    "# results\n",
    "results_my_tree = []\n",
    "results_my_forest = []\n",
    "results_sk_tree = []\n",
    "results_sk_forest = [] "
   ]
  },
  {
   "cell_type": "code",
   "execution_count": 15,
   "metadata": {},
   "outputs": [
    {
     "name": "stdout",
     "output_type": "stream",
     "text": [
      "Time step:  1\n",
      "sklearn tree accuracy: 0.8424, precision: 0.8119, recall: 0.8660, f1: 0.8381\n",
      "sklearn tree build time: 0.0459, test time: 0.0022\n",
      "====================================\n"
     ]
    },
    {
     "name": "stdout",
     "output_type": "stream",
     "text": [
      "sklearn forest accuracy: 0.8298, precision: 0.8088, recall: 0.8365, f1: 0.8224\n",
      "sklearn forest build time: 0.0738, test time: 0.0052\n",
      "====================================\n",
      "my tree accuracy: 0.8406, precision: 0.8118, recall: 0.8612, f1: 0.8358\n",
      "my tree build time: 178.8262, test time: 0.0054\n",
      "====================================\n",
      "my forest accuracy: 0.8415, precision: 0.8040, recall: 0.8774, f1: 0.8391\n",
      "my forest build time: 1165.0432, test time: 0.0475\n",
      "====================================\n",
      "Time step:  2\n",
      "sklearn tree accuracy: 0.8012, precision: 0.7455, recall: 0.8762, f1: 0.8056\n",
      "sklearn tree build time: 0.0320, test time: 0.0017\n",
      "====================================\n",
      "sklearn forest accuracy: 0.8298, precision: 0.7903, recall: 0.8686, f1: 0.8276\n",
      "sklearn forest build time: 0.0470, test time: 0.0030\n",
      "====================================\n",
      "my tree accuracy: 0.8047, precision: 0.7512, recall: 0.8743, f1: 0.8081\n",
      "my tree build time: 150.1039, test time: 0.0044\n",
      "====================================\n",
      "my forest accuracy: 0.8356, precision: 0.7906, recall: 0.8848, f1: 0.8351\n",
      "my forest build time: 1066.1401, test time: 0.0460\n",
      "====================================\n",
      "Time step:  3\n",
      "sklearn tree accuracy: 0.8021, precision: 0.7549, recall: 0.8533, f1: 0.8011\n",
      "sklearn tree build time: 0.0324, test time: 0.0016\n",
      "====================================\n",
      "sklearn forest accuracy: 0.8303, precision: 0.7933, recall: 0.8610, f1: 0.8257\n",
      "sklearn forest build time: 0.0503, test time: 0.0048\n",
      "====================================\n",
      "my tree accuracy: 0.8088, precision: 0.7624, recall: 0.8581, f1: 0.8074\n",
      "my tree build time: 155.4914, test time: 0.0043\n",
      "====================================\n",
      "my forest accuracy: 0.8321, precision: 0.7894, recall: 0.8734, f1: 0.8293\n",
      "my forest build time: 1122.5786, test time: 0.0485\n",
      "====================================\n",
      "Time step:  4\n",
      "sklearn tree accuracy: 0.8110, precision: 0.8153, recall: 0.7801, f1: 0.7973\n",
      "sklearn tree build time: 0.0336, test time: 0.0019\n",
      "====================================\n",
      "sklearn forest accuracy: 0.8459, precision: 0.8333, recall: 0.8459, f1: 0.8396\n",
      "sklearn forest build time: 0.0482, test time: 0.0032\n",
      "====================================\n",
      "my tree accuracy: 0.8106, precision: 0.8127, recall: 0.7829, f1: 0.7975\n",
      "my tree build time: 151.5690, test time: 0.0043\n",
      "====================================\n"
     ]
    },
    {
     "ename": "KeyboardInterrupt",
     "evalue": "",
     "output_type": "error",
     "traceback": [
      "\u001b[0;31m---------------------------------------------------------------------------\u001b[0m",
      "\u001b[0;31mKeyboardInterrupt\u001b[0m                         Traceback (most recent call last)",
      "Cell \u001b[0;32mIn[15], line 1\u001b[0m\n\u001b[0;32m----> 1\u001b[0m \u001b[43mcomparative\u001b[49m\u001b[43m(\u001b[49m\u001b[43mX_onehot\u001b[49m\u001b[43m,\u001b[49m\u001b[43m \u001b[49m\u001b[43my\u001b[49m\u001b[43m,\u001b[49m\u001b[43m \u001b[49m\u001b[38;5;241;43m50\u001b[39;49m\u001b[43m,\u001b[49m\u001b[43m \u001b[49m\u001b[43mcate\u001b[49m\u001b[38;5;241;43m=\u001b[39;49m\u001b[38;5;28;43;01mFalse\u001b[39;49;00m\u001b[43m)\u001b[49m\n",
      "Cell \u001b[0;32mIn[13], line 26\u001b[0m, in \u001b[0;36mcomparative\u001b[0;34m(X, y, loops, cate)\u001b[0m\n\u001b[1;32m     24\u001b[0m \u001b[38;5;66;03m# my forest\u001b[39;00m\n\u001b[1;32m     25\u001b[0m my_forest \u001b[38;5;241m=\u001b[39m RandomForest(num_trees\u001b[38;5;241m=\u001b[39m\u001b[38;5;241m10\u001b[39m, max_depth\u001b[38;5;241m=\u001b[39m\u001b[38;5;241m10\u001b[39m, min_samples_split\u001b[38;5;241m=\u001b[39m\u001b[38;5;241m5\u001b[39m)\n\u001b[0;32m---> 26\u001b[0m results_my_forest\u001b[38;5;241m.\u001b[39mappend(\u001b[43mevaluate_model\u001b[49m\u001b[43m(\u001b[49m\u001b[43mmy_forest\u001b[49m\u001b[43m,\u001b[49m\u001b[43m \u001b[49m\u001b[43mX_train\u001b[49m\u001b[43m,\u001b[49m\u001b[43m \u001b[49m\u001b[43my_train\u001b[49m\u001b[43m,\u001b[49m\u001b[43m \u001b[49m\u001b[43mX_test\u001b[49m\u001b[43m,\u001b[49m\u001b[43m \u001b[49m\u001b[43my_test\u001b[49m\u001b[43m,\u001b[49m\u001b[43m \u001b[49m\u001b[38;5;124;43m\"\u001b[39;49m\u001b[38;5;124;43mmy forest\u001b[39;49m\u001b[38;5;124;43m\"\u001b[39;49m\u001b[43m)\u001b[49m)\n",
      "Cell \u001b[0;32mIn[12], line 3\u001b[0m, in \u001b[0;36mevaluate_model\u001b[0;34m(model, X_train, y_train, X_test, y_test, model_name)\u001b[0m\n\u001b[1;32m      1\u001b[0m \u001b[38;5;28;01mdef\u001b[39;00m \u001b[38;5;21mevaluate_model\u001b[39m(model, X_train, y_train, X_test, y_test, model_name):\n\u001b[1;32m      2\u001b[0m     start \u001b[38;5;241m=\u001b[39m datetime\u001b[38;5;241m.\u001b[39mnow()\n\u001b[0;32m----> 3\u001b[0m     \u001b[43mmodel\u001b[49m\u001b[38;5;241;43m.\u001b[39;49m\u001b[43mfit\u001b[49m\u001b[43m(\u001b[49m\u001b[43mX_train\u001b[49m\u001b[43m,\u001b[49m\u001b[43m \u001b[49m\u001b[43my_train\u001b[49m\u001b[43m)\u001b[49m\n\u001b[1;32m      4\u001b[0m     end \u001b[38;5;241m=\u001b[39m datetime\u001b[38;5;241m.\u001b[39mnow()\n\u001b[1;32m      5\u001b[0m     build_time \u001b[38;5;241m=\u001b[39m (end \u001b[38;5;241m-\u001b[39m start)\u001b[38;5;241m.\u001b[39mtotal_seconds()\n",
      "File \u001b[0;32m~/OneDrive/Documents/Uni/Year3_Term2/Data_Mining/decision_tree_and_random_forest/random_forest.py:78\u001b[0m, in \u001b[0;36mRandomForest.fit\u001b[0;34m(self, X, y)\u001b[0m\n\u001b[1;32m     76\u001b[0m _X, _y \u001b[38;5;241m=\u001b[39m \u001b[38;5;28mself\u001b[39m\u001b[38;5;241m.\u001b[39m_sample(X, y)\n\u001b[1;32m     77\u001b[0m \u001b[38;5;66;03m# Train\u001b[39;00m\n\u001b[0;32m---> 78\u001b[0m \u001b[43mclf\u001b[49m\u001b[38;5;241;43m.\u001b[39;49m\u001b[43mfit\u001b[49m\u001b[43m(\u001b[49m\u001b[43m_X\u001b[49m\u001b[43m,\u001b[49m\u001b[43m \u001b[49m\u001b[43m_y\u001b[49m\u001b[43m)\u001b[49m\n\u001b[1;32m     79\u001b[0m \u001b[38;5;66;03m# Save the classifier\u001b[39;00m\n\u001b[1;32m     80\u001b[0m \u001b[38;5;28mself\u001b[39m\u001b[38;5;241m.\u001b[39mdecision_trees\u001b[38;5;241m.\u001b[39mappend(clf)\n",
      "File \u001b[0;32m~/OneDrive/Documents/Uni/Year3_Term2/Data_Mining/decision_tree_and_random_forest/decision_tree.py:153\u001b[0m, in \u001b[0;36mDecisionTree.fit\u001b[0;34m(self, X, y)\u001b[0m\n\u001b[1;32m    145\u001b[0m \u001b[38;5;250m\u001b[39m\u001b[38;5;124;03m'''\u001b[39;00m\n\u001b[1;32m    146\u001b[0m \u001b[38;5;124;03mFunction used to train a decision tree classifier model.\u001b[39;00m\n\u001b[1;32m    147\u001b[0m \u001b[38;5;124;03m\u001b[39;00m\n\u001b[0;32m   (...)\u001b[0m\n\u001b[1;32m    150\u001b[0m \u001b[38;5;124;03m:return: None\u001b[39;00m\n\u001b[1;32m    151\u001b[0m \u001b[38;5;124;03m'''\u001b[39;00m\n\u001b[1;32m    152\u001b[0m \u001b[38;5;66;03m# Call a recursive function to build the tree\u001b[39;00m\n\u001b[0;32m--> 153\u001b[0m \u001b[38;5;28mself\u001b[39m\u001b[38;5;241m.\u001b[39mroot \u001b[38;5;241m=\u001b[39m \u001b[38;5;28;43mself\u001b[39;49m\u001b[38;5;241;43m.\u001b[39;49m\u001b[43m_build\u001b[49m\u001b[43m(\u001b[49m\u001b[43mX\u001b[49m\u001b[43m,\u001b[49m\u001b[43m \u001b[49m\u001b[43my\u001b[49m\u001b[43m)\u001b[49m\n",
      "File \u001b[0;32m~/OneDrive/Documents/Uni/Year3_Term2/Data_Mining/decision_tree_and_random_forest/decision_tree.py:122\u001b[0m, in \u001b[0;36mDecisionTree._build\u001b[0;34m(self, X, y, depth)\u001b[0m\n\u001b[1;32m    118\u001b[0m \u001b[38;5;28;01mif\u001b[39;00m \u001b[38;5;28mlen\u001b[39m(best) \u001b[38;5;241m>\u001b[39m \u001b[38;5;241m0\u001b[39m:\n\u001b[1;32m    119\u001b[0m     \u001b[38;5;28;01mif\u001b[39;00m best[\u001b[38;5;124m'\u001b[39m\u001b[38;5;124mgain\u001b[39m\u001b[38;5;124m'\u001b[39m] \u001b[38;5;241m>\u001b[39m \u001b[38;5;241m0\u001b[39m:\n\u001b[1;32m    120\u001b[0m         \u001b[38;5;66;03m# print('best gain')\u001b[39;00m\n\u001b[1;32m    121\u001b[0m         \u001b[38;5;66;03m# Build a tree on the left\u001b[39;00m\n\u001b[0;32m--> 122\u001b[0m         left \u001b[38;5;241m=\u001b[39m \u001b[38;5;28;43mself\u001b[39;49m\u001b[38;5;241;43m.\u001b[39;49m\u001b[43m_build\u001b[49m\u001b[43m(\u001b[49m\n\u001b[1;32m    123\u001b[0m \u001b[43m            \u001b[49m\u001b[43mX\u001b[49m\u001b[38;5;241;43m=\u001b[39;49m\u001b[43mbest\u001b[49m\u001b[43m[\u001b[49m\u001b[38;5;124;43m'\u001b[39;49m\u001b[38;5;124;43mdf_left\u001b[39;49m\u001b[38;5;124;43m'\u001b[39;49m\u001b[43m]\u001b[49m\u001b[43m[\u001b[49m\u001b[43m:\u001b[49m\u001b[43m,\u001b[49m\u001b[43m \u001b[49m\u001b[43m:\u001b[49m\u001b[38;5;241;43m-\u001b[39;49m\u001b[38;5;241;43m1\u001b[39;49m\u001b[43m]\u001b[49m\u001b[43m,\u001b[49m\u001b[43m \u001b[49m\n\u001b[1;32m    124\u001b[0m \u001b[43m            \u001b[49m\u001b[43my\u001b[49m\u001b[38;5;241;43m=\u001b[39;49m\u001b[43mbest\u001b[49m\u001b[43m[\u001b[49m\u001b[38;5;124;43m'\u001b[39;49m\u001b[38;5;124;43mdf_left\u001b[39;49m\u001b[38;5;124;43m'\u001b[39;49m\u001b[43m]\u001b[49m\u001b[43m[\u001b[49m\u001b[43m:\u001b[49m\u001b[43m,\u001b[49m\u001b[43m \u001b[49m\u001b[38;5;241;43m-\u001b[39;49m\u001b[38;5;241;43m1\u001b[39;49m\u001b[43m]\u001b[49m\u001b[43m,\u001b[49m\u001b[43m \u001b[49m\n\u001b[1;32m    125\u001b[0m \u001b[43m            \u001b[49m\u001b[43mdepth\u001b[49m\u001b[38;5;241;43m=\u001b[39;49m\u001b[43mdepth\u001b[49m\u001b[43m \u001b[49m\u001b[38;5;241;43m+\u001b[39;49m\u001b[43m \u001b[49m\u001b[38;5;241;43m1\u001b[39;49m\n\u001b[1;32m    126\u001b[0m \u001b[43m        \u001b[49m\u001b[43m)\u001b[49m\n\u001b[1;32m    127\u001b[0m         right \u001b[38;5;241m=\u001b[39m \u001b[38;5;28mself\u001b[39m\u001b[38;5;241m.\u001b[39m_build(\n\u001b[1;32m    128\u001b[0m             X\u001b[38;5;241m=\u001b[39mbest[\u001b[38;5;124m'\u001b[39m\u001b[38;5;124mdf_right\u001b[39m\u001b[38;5;124m'\u001b[39m][:, :\u001b[38;5;241m-\u001b[39m\u001b[38;5;241m1\u001b[39m], \n\u001b[1;32m    129\u001b[0m             y\u001b[38;5;241m=\u001b[39mbest[\u001b[38;5;124m'\u001b[39m\u001b[38;5;124mdf_right\u001b[39m\u001b[38;5;124m'\u001b[39m][:, \u001b[38;5;241m-\u001b[39m\u001b[38;5;241m1\u001b[39m], \n\u001b[1;32m    130\u001b[0m             depth\u001b[38;5;241m=\u001b[39mdepth \u001b[38;5;241m+\u001b[39m \u001b[38;5;241m1\u001b[39m\n\u001b[1;32m    131\u001b[0m         )\n\u001b[1;32m    132\u001b[0m         \u001b[38;5;28;01mreturn\u001b[39;00m Node(\n\u001b[1;32m    133\u001b[0m             feature\u001b[38;5;241m=\u001b[39mbest[\u001b[38;5;124m'\u001b[39m\u001b[38;5;124mfeature_index\u001b[39m\u001b[38;5;124m'\u001b[39m], \n\u001b[1;32m    134\u001b[0m             threshold\u001b[38;5;241m=\u001b[39mbest[\u001b[38;5;124m'\u001b[39m\u001b[38;5;124mthreshold\u001b[39m\u001b[38;5;124m'\u001b[39m], \n\u001b[0;32m   (...)\u001b[0m\n\u001b[1;32m    137\u001b[0m             gain\u001b[38;5;241m=\u001b[39mbest[\u001b[38;5;124m'\u001b[39m\u001b[38;5;124mgain\u001b[39m\u001b[38;5;124m'\u001b[39m]\n\u001b[1;32m    138\u001b[0m         )\n",
      "File \u001b[0;32m~/OneDrive/Documents/Uni/Year3_Term2/Data_Mining/decision_tree_and_random_forest/decision_tree.py:122\u001b[0m, in \u001b[0;36mDecisionTree._build\u001b[0;34m(self, X, y, depth)\u001b[0m\n\u001b[1;32m    118\u001b[0m \u001b[38;5;28;01mif\u001b[39;00m \u001b[38;5;28mlen\u001b[39m(best) \u001b[38;5;241m>\u001b[39m \u001b[38;5;241m0\u001b[39m:\n\u001b[1;32m    119\u001b[0m     \u001b[38;5;28;01mif\u001b[39;00m best[\u001b[38;5;124m'\u001b[39m\u001b[38;5;124mgain\u001b[39m\u001b[38;5;124m'\u001b[39m] \u001b[38;5;241m>\u001b[39m \u001b[38;5;241m0\u001b[39m:\n\u001b[1;32m    120\u001b[0m         \u001b[38;5;66;03m# print('best gain')\u001b[39;00m\n\u001b[1;32m    121\u001b[0m         \u001b[38;5;66;03m# Build a tree on the left\u001b[39;00m\n\u001b[0;32m--> 122\u001b[0m         left \u001b[38;5;241m=\u001b[39m \u001b[38;5;28;43mself\u001b[39;49m\u001b[38;5;241;43m.\u001b[39;49m\u001b[43m_build\u001b[49m\u001b[43m(\u001b[49m\n\u001b[1;32m    123\u001b[0m \u001b[43m            \u001b[49m\u001b[43mX\u001b[49m\u001b[38;5;241;43m=\u001b[39;49m\u001b[43mbest\u001b[49m\u001b[43m[\u001b[49m\u001b[38;5;124;43m'\u001b[39;49m\u001b[38;5;124;43mdf_left\u001b[39;49m\u001b[38;5;124;43m'\u001b[39;49m\u001b[43m]\u001b[49m\u001b[43m[\u001b[49m\u001b[43m:\u001b[49m\u001b[43m,\u001b[49m\u001b[43m \u001b[49m\u001b[43m:\u001b[49m\u001b[38;5;241;43m-\u001b[39;49m\u001b[38;5;241;43m1\u001b[39;49m\u001b[43m]\u001b[49m\u001b[43m,\u001b[49m\u001b[43m \u001b[49m\n\u001b[1;32m    124\u001b[0m \u001b[43m            \u001b[49m\u001b[43my\u001b[49m\u001b[38;5;241;43m=\u001b[39;49m\u001b[43mbest\u001b[49m\u001b[43m[\u001b[49m\u001b[38;5;124;43m'\u001b[39;49m\u001b[38;5;124;43mdf_left\u001b[39;49m\u001b[38;5;124;43m'\u001b[39;49m\u001b[43m]\u001b[49m\u001b[43m[\u001b[49m\u001b[43m:\u001b[49m\u001b[43m,\u001b[49m\u001b[43m \u001b[49m\u001b[38;5;241;43m-\u001b[39;49m\u001b[38;5;241;43m1\u001b[39;49m\u001b[43m]\u001b[49m\u001b[43m,\u001b[49m\u001b[43m \u001b[49m\n\u001b[1;32m    125\u001b[0m \u001b[43m            \u001b[49m\u001b[43mdepth\u001b[49m\u001b[38;5;241;43m=\u001b[39;49m\u001b[43mdepth\u001b[49m\u001b[43m \u001b[49m\u001b[38;5;241;43m+\u001b[39;49m\u001b[43m \u001b[49m\u001b[38;5;241;43m1\u001b[39;49m\n\u001b[1;32m    126\u001b[0m \u001b[43m        \u001b[49m\u001b[43m)\u001b[49m\n\u001b[1;32m    127\u001b[0m         right \u001b[38;5;241m=\u001b[39m \u001b[38;5;28mself\u001b[39m\u001b[38;5;241m.\u001b[39m_build(\n\u001b[1;32m    128\u001b[0m             X\u001b[38;5;241m=\u001b[39mbest[\u001b[38;5;124m'\u001b[39m\u001b[38;5;124mdf_right\u001b[39m\u001b[38;5;124m'\u001b[39m][:, :\u001b[38;5;241m-\u001b[39m\u001b[38;5;241m1\u001b[39m], \n\u001b[1;32m    129\u001b[0m             y\u001b[38;5;241m=\u001b[39mbest[\u001b[38;5;124m'\u001b[39m\u001b[38;5;124mdf_right\u001b[39m\u001b[38;5;124m'\u001b[39m][:, \u001b[38;5;241m-\u001b[39m\u001b[38;5;241m1\u001b[39m], \n\u001b[1;32m    130\u001b[0m             depth\u001b[38;5;241m=\u001b[39mdepth \u001b[38;5;241m+\u001b[39m \u001b[38;5;241m1\u001b[39m\n\u001b[1;32m    131\u001b[0m         )\n\u001b[1;32m    132\u001b[0m         \u001b[38;5;28;01mreturn\u001b[39;00m Node(\n\u001b[1;32m    133\u001b[0m             feature\u001b[38;5;241m=\u001b[39mbest[\u001b[38;5;124m'\u001b[39m\u001b[38;5;124mfeature_index\u001b[39m\u001b[38;5;124m'\u001b[39m], \n\u001b[1;32m    134\u001b[0m             threshold\u001b[38;5;241m=\u001b[39mbest[\u001b[38;5;124m'\u001b[39m\u001b[38;5;124mthreshold\u001b[39m\u001b[38;5;124m'\u001b[39m], \n\u001b[0;32m   (...)\u001b[0m\n\u001b[1;32m    137\u001b[0m             gain\u001b[38;5;241m=\u001b[39mbest[\u001b[38;5;124m'\u001b[39m\u001b[38;5;124mgain\u001b[39m\u001b[38;5;124m'\u001b[39m]\n\u001b[1;32m    138\u001b[0m         )\n",
      "File \u001b[0;32m~/OneDrive/Documents/Uni/Year3_Term2/Data_Mining/decision_tree_and_random_forest/decision_tree.py:115\u001b[0m, in \u001b[0;36mDecisionTree._build\u001b[0;34m(self, X, y, depth)\u001b[0m\n\u001b[1;32m    112\u001b[0m \u001b[38;5;66;03m# Check to see if a node should be leaf node\u001b[39;00m\n\u001b[1;32m    113\u001b[0m \u001b[38;5;28;01mif\u001b[39;00m n_rows \u001b[38;5;241m>\u001b[39m\u001b[38;5;241m=\u001b[39m \u001b[38;5;28mself\u001b[39m\u001b[38;5;241m.\u001b[39mmin_samples_split \u001b[38;5;129;01mand\u001b[39;00m depth \u001b[38;5;241m<\u001b[39m\u001b[38;5;241m=\u001b[39m \u001b[38;5;28mself\u001b[39m\u001b[38;5;241m.\u001b[39mmax_depth:\n\u001b[1;32m    114\u001b[0m     \u001b[38;5;66;03m# Get the best split\u001b[39;00m\n\u001b[0;32m--> 115\u001b[0m     best \u001b[38;5;241m=\u001b[39m \u001b[38;5;28;43mself\u001b[39;49m\u001b[38;5;241;43m.\u001b[39;49m\u001b[43m_best_split\u001b[49m\u001b[43m(\u001b[49m\u001b[43mX\u001b[49m\u001b[43m,\u001b[49m\u001b[43m \u001b[49m\u001b[43my\u001b[49m\u001b[43m)\u001b[49m\n\u001b[1;32m    116\u001b[0m     \u001b[38;5;66;03m# print(best)\u001b[39;00m\n\u001b[1;32m    117\u001b[0m     \u001b[38;5;66;03m# If the split isn't pure\u001b[39;00m\n\u001b[1;32m    118\u001b[0m     \u001b[38;5;28;01mif\u001b[39;00m \u001b[38;5;28mlen\u001b[39m(best) \u001b[38;5;241m>\u001b[39m \u001b[38;5;241m0\u001b[39m:\n",
      "File \u001b[0;32m~/OneDrive/Documents/Uni/Year3_Term2/Data_Mining/decision_tree_and_random_forest/decision_tree.py:73\u001b[0m, in \u001b[0;36mDecisionTree._best_split\u001b[0;34m(self, X, y)\u001b[0m\n\u001b[1;32m     71\u001b[0m df \u001b[38;5;241m=\u001b[39m np\u001b[38;5;241m.\u001b[39mconcatenate((X, y\u001b[38;5;241m.\u001b[39mreshape(\u001b[38;5;241m1\u001b[39m, \u001b[38;5;241m-\u001b[39m\u001b[38;5;241m1\u001b[39m)\u001b[38;5;241m.\u001b[39mT), axis\u001b[38;5;241m=\u001b[39m\u001b[38;5;241m1\u001b[39m)\n\u001b[1;32m     72\u001b[0m \u001b[38;5;28;01mif\u001b[39;00m \u001b[38;5;129;01mnot\u001b[39;00m \u001b[38;5;28misinstance\u001b[39m(threshold, \u001b[38;5;28mstr\u001b[39m):\n\u001b[0;32m---> 73\u001b[0m     df_left \u001b[38;5;241m=\u001b[39m \u001b[43mnp\u001b[49m\u001b[38;5;241;43m.\u001b[39;49m\u001b[43marray\u001b[49m\u001b[43m(\u001b[49m\u001b[43m[\u001b[49m\u001b[43mrow\u001b[49m\u001b[43m \u001b[49m\u001b[38;5;28;43;01mfor\u001b[39;49;00m\u001b[43m \u001b[49m\u001b[43mrow\u001b[49m\u001b[43m \u001b[49m\u001b[38;5;129;43;01min\u001b[39;49;00m\u001b[43m \u001b[49m\u001b[43mdf\u001b[49m\u001b[43m \u001b[49m\u001b[38;5;28;43;01mif\u001b[39;49;00m\u001b[43m \u001b[49m\u001b[43mrow\u001b[49m\u001b[43m[\u001b[49m\u001b[43mf_idx\u001b[49m\u001b[43m]\u001b[49m\u001b[43m \u001b[49m\u001b[38;5;241;43m<\u001b[39;49m\u001b[38;5;241;43m=\u001b[39;49m\u001b[43m \u001b[49m\u001b[43mthreshold\u001b[49m\u001b[43m]\u001b[49m\u001b[43m)\u001b[49m\n\u001b[1;32m     74\u001b[0m     df_right \u001b[38;5;241m=\u001b[39m np\u001b[38;5;241m.\u001b[39marray([row \u001b[38;5;28;01mfor\u001b[39;00m row \u001b[38;5;129;01min\u001b[39;00m df \u001b[38;5;28;01mif\u001b[39;00m row[f_idx] \u001b[38;5;241m>\u001b[39m threshold])\n\u001b[1;32m     75\u001b[0m \u001b[38;5;28;01melse\u001b[39;00m:\n",
      "\u001b[0;31mKeyboardInterrupt\u001b[0m: "
     ]
    }
   ],
   "source": [
    "comparative(X_onehot, y, 50, cate=False)"
   ]
  },
  {
   "cell_type": "code",
   "execution_count": null,
   "metadata": {},
   "outputs": [],
   "source": [
    "results_my_tree = np.array(results_my_tree)\n",
    "results_my_forest = np.array(results_my_forest)\n",
    "results_sk_tree = np.array(results_sk_tree)\n",
    "results_sk_forest = np.array(results_sk_forest)"
   ]
  },
  {
   "cell_type": "code",
   "execution_count": null,
   "metadata": {},
   "outputs": [],
   "source": [
    "def box_plot(data, y, cat=False):\n",
    "    plt.boxplot(data, showfliers=True)\n",
    "    plt.xlabel('Methods')\n",
    "    plt.ylabel(y)\n",
    "    if cat==True:\n",
    "        plt.xticks([1, 2], ['My Tree', 'My Forest'])\n",
    "    else:\n",
    "        plt.xticks([1, 2, 3, 4], ['My Tree', 'My Forest', 'Sklearn Tree', 'Sklearn Forest'])\n",
    "    plt.show()"
   ]
  },
  {
   "cell_type": "code",
   "execution_count": null,
   "metadata": {},
   "outputs": [],
   "source": [
    "def calculate_mean(array):\n",
    "    # Tính trung bình của từng cột\n",
    "    means = np.mean(array, axis=0)\n",
    "    \n",
    "    return means"
   ]
  },
  {
   "cell_type": "code",
   "execution_count": null,
   "metadata": {},
   "outputs": [
    {
     "name": "stdout",
     "output_type": "stream",
     "text": [
      "Mean of sklearn tree:  [6.78334080e-01 7.77835776e-01 4.54603493e-01 5.67717964e-01\n",
      " 1.34937540e+02 4.12262200e-02]\n"
     ]
    }
   ],
   "source": [
    "mean = calculate_mean(results_my_forest)\n",
    "print(\"Mean of sklearn tree: \", mean)"
   ]
  },
  {
   "cell_type": "markdown",
   "metadata": {},
   "source": [
    "Categories data"
   ]
  },
  {
   "cell_type": "code",
   "execution_count": null,
   "metadata": {},
   "outputs": [
    {
     "data": {
      "image/png": "[encoded data removed]",
      "text/plain": [
       "<Figure size 640x480 with 1 Axes>"
      ]
     },
     "metadata": {},
     "output_type": "display_data"
    }
   ],
   "source": [
    "# accuracy\n",
    "box_plot([results_my_tree[:,0], results_my_forest[:,0], results_sk_tree[:,0], results_sk_forest[:,0]], y='Accuracy (%)', cat=False)"
   ]
  },
  {
   "cell_type": "code",
   "execution_count": null,
   "metadata": {},
   "outputs": [
    {
     "data": {
      "image/png": "[encoded data removed]",
      "text/plain": [
       "<Figure size 640x480 with 1 Axes>"
      ]
     },
     "metadata": {},
     "output_type": "display_data"
    }
   ],
   "source": [
    "# time\n",
    "box_plot([results_my_tree[:,5], results_my_forest[:,5], results_sk_tree[:,5], results_sk_forest[:,5]], y='Time (s)', cat=False)"
   ]
  }
 ],
 "metadata": {
  "kernelspec": {
   "display_name": "data_mining",
   "language": "python",
   "name": "python3"
  },
  "language_info": {
   "codemirror_mode": {
    "name": "ipython",
    "version": 3
   },
   "file_extension": ".py",
   "mimetype": "text/x-python",
   "name": "python",
   "nbconvert_exporter": "python",
   "pygments_lexer": "ipython3",
   "version": "3.9.18"
  }
 },
 "nbformat": 4,
 "nbformat_minor": 2
}
